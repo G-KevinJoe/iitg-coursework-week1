{
 "cells": [
  {
   "cell_type": "markdown",
   "id": "2fdcbbad",
   "metadata": {},
   "source": [
    "# NDVI-based Land Cover Classification"
   ]
  },
  {
   "cell_type": "markdown",
   "id": "2d4db62a",
   "metadata": {},
   "source": [
    "### STEP 1: Import libraries"
   ]
  },
  {
   "cell_type": "code",
   "execution_count": 1,
   "id": "216d46cc",
   "metadata": {},
   "outputs": [],
   "source": [
    "import pandas as pd\n",
    "import numpy as np\n",
    "from scipy.stats import skew, kurtosis\n",
    "from sklearn.impute import SimpleImputer\n",
    "from sklearn.preprocessing import RobustScaler\n",
    "from sklearn.linear_model import LogisticRegression\n",
    "from sklearn.pipeline import Pipeline\n",
    "from sklearn.model_selection import cross_val_score, StratifiedKFold\n",
    "from sklearn.feature_selection import SelectFromModel\n",
    "from sklearn.calibration import CalibratedClassifierCV\n",
    "from sklearn.base import BaseEstimator, TransformerMixin\n",
    "import warnings\n",
    "warnings.filterwarnings('ignore')"
   ]
  },
  {
   "cell_type": "markdown",
   "id": "3620941f",
   "metadata": {},
   "source": [
    "### Section 2: Custom Transformer for NDVI Feature Engineering"
   ]
  },
  {
   "cell_type": "code",
   "execution_count": 2,
   "id": "a9ac74b6",
   "metadata": {},
   "outputs": [],
   "source": [
    "class NDVIFeatureEngineer(BaseEstimator, TransformerMixin):\n",
    "    def __init__(self, ndvi_columns):\n",
    "        self.ndvi_columns = ndvi_columns\n",
    "        self.imputer = SimpleImputer(strategy='median')\n",
    "\n",
    "    def fit(self, X, y=None):\n",
    "        self.imputer.fit(X[self.ndvi_columns])\n",
    "        return self\n",
    "\n",
    "    def transform(self, X):\n",
    "        df = X.copy()\n",
    "        # Impute missing NDVI values\n",
    "        ndvi_df = pd.DataFrame(\n",
    "            self.imputer.transform(df[self.ndvi_columns]),\n",
    "            columns=self.ndvi_columns,\n",
    "            index=df.index\n",
    "        )\n",
    "        df[self.ndvi_columns] = ndvi_df\n",
    "\n",
    "        # Basic statistical features\n",
    "        values = ndvi_df.values\n",
    "        df['ndvi_mean'] = ndvi_df.mean(axis=1)\n",
    "        df['ndvi_median'] = ndvi_df.median(axis=1)\n",
    "        df['ndvi_std'] = ndvi_df.std(axis=1)\n",
    "        df['ndvi_skew'] = skew(values, axis=1)\n",
    "        df['ndvi_kurtosis'] = kurtosis(values, axis=1)\n",
    "\n",
    "        # Recent behaviour\n",
    "        df['ndvi_last3_mean'] = ndvi_df.iloc[:, -3:].mean(axis=1)\n",
    "\n",
    "        # Quartile means\n",
    "        n = len(self.ndvi_columns)\n",
    "        quart = n // 4\n",
    "        for i in range(4):\n",
    "            cols = (self.ndvi_columns[i*quart:(i+1)*quart]\n",
    "                    if i < 3 else self.ndvi_columns[i*quart:])\n",
    "            df[f'ndvi_q{i+1}_mean'] = ndvi_df[cols].mean(axis=1)\n",
    "\n",
    "        # Missing-count features\n",
    "        df['ndvi_missing_count'] = (X[self.ndvi_columns].isnull()).sum(axis=1)\n",
    "        df['ndvi_missing_ratio'] = df['ndvi_missing_count'] / n\n",
    "\n",
    "        # Derived features\n",
    "        df['ndvi_stability'] = df['ndvi_last3_mean'] / (df['ndvi_mean'] + 1e-6)\n",
    "        df['ndvi_seasonality'] = df[[f'ndvi_q{i+1}_mean' for i in range(4)]].std(axis=1)\n",
    "\n",
    "        return df"
   ]
  },
  {
   "cell_type": "markdown",
   "id": "22766fa5",
   "metadata": {},
   "source": [
    "### Section 3: Load Data"
   ]
  },
  {
   "cell_type": "code",
   "execution_count": 3,
   "id": "8f457988",
   "metadata": {},
   "outputs": [],
   "source": [
    "train_df = pd.read_csv(\"hacktrain.csv\").drop(columns=['Unnamed: 0'], errors='ignore')\n",
    "test_df  = pd.read_csv(\"hacktest.csv\").drop(columns=['Unnamed: 0'], errors='ignore')\n",
    "\n",
    "# Identify NDVI columns\n",
    "ndvi_columns = sorted([c for c in train_df.columns if c.endswith('_N')])\n",
    "fe = NDVIFeatureEngineer(ndvi_columns)\n",
    "train_df = fe.fit_transform(train_df)\n",
    "test_df  = fe.transform(test_df)\n",
    "\n",
    "engineered_features = [col for col in train_df.columns if col.startswith('ndvi_')]\n",
    "X_train = train_df[engineered_features]\n",
    "y_train = train_df['class']\n",
    "X_test  = test_df[engineered_features]"
   ]
  },
  {
   "cell_type": "markdown",
   "id": "1bb68170",
   "metadata": {},
   "source": [
    "### Section 4: Build Pipeline"
   ]
  },
  {
   "cell_type": "code",
   "execution_count": 4,
   "id": "ce62e938",
   "metadata": {},
   "outputs": [],
   "source": [
    "pipeline = Pipeline([\n",
    "    ('scaler', RobustScaler()),\n",
    "    ('selector', SelectFromModel(\n",
    "        LogisticRegression(\n",
    "            penalty='l1', solver='liblinear',\n",
    "            C=0.6, class_weight='balanced', random_state=42,\n",
    "            max_iter=1000\n",
    "        )\n",
    "    )),\n",
    "    ('classifier', CalibratedClassifierCV(\n",
    "        estimator=LogisticRegression(\n",
    "            penalty='l2', solver='lbfgs',\n",
    "            C=0.2, max_iter=2000, multi_class='multinomial',\n",
    "            random_state=42\n",
    "        ),\n",
    "        cv=5, ensemble=False\n",
    "    ))\n",
    "])"
   ]
  },
  {
   "cell_type": "markdown",
   "id": "08f58d0c",
   "metadata": {},
   "source": [
    "### Section 5: Evaluation and Submission"
   ]
  },
  {
   "cell_type": "code",
   "execution_count": 5,
   "id": "9a284d68",
   "metadata": {},
   "outputs": [
    {
     "name": "stdout",
     "output_type": "stream",
     "text": [
      "10-Fold CV Accuracy: 0.84400 ± 0.00483\n",
      "Submission file saved as submission.csv\n"
     ]
    }
   ],
   "source": [
    "cv = StratifiedKFold(n_splits=10, shuffle=True, random_state=42)\n",
    "scores = cross_val_score(pipeline, X_train, y_train, cv=cv, scoring='accuracy')\n",
    "print(f\"10-Fold CV Accuracy: {scores.mean():.5f} ± {scores.std():.5f}\")\n",
    "\n",
    "pipeline.fit(X_train, y_train)\n",
    "y_pred = pipeline.predict(X_test)\n",
    "\n",
    "submission = pd.DataFrame({\n",
    "    'ID': test_df['ID'],\n",
    "    'class': y_pred\n",
    "})\n",
    "submission.to_csv(\"submission.csv\", index=False)\n",
    "print(\"Submission file saved as submission.csv\")"
   ]
  }
 ],
 "metadata": {
  "kernelspec": {
   "display_name": "base",
   "language": "python",
   "name": "python3"
  },
  "language_info": {
   "codemirror_mode": {
    "name": "ipython",
    "version": 3
   },
   "file_extension": ".py",
   "mimetype": "text/x-python",
   "name": "python",
   "nbconvert_exporter": "python",
   "pygments_lexer": "ipython3",
   "version": "3.12.7"
  }
 },
 "nbformat": 4,
 "nbformat_minor": 5
}
